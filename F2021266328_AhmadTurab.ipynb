{
  "nbformat": 4,
  "nbformat_minor": 0,
  "metadata": {
    "colab": {
      "provenance": []
    },
    "kernelspec": {
      "name": "python3",
      "display_name": "Python 3"
    },
    "language_info": {
      "name": "python"
    }
  },
  "cells": [
    {
      "cell_type": "code",
      "execution_count": null,
      "metadata": {
        "id": "eEAsVCi3GIkR"
      },
      "outputs": [],
      "source": [
        "Topic : Analysis and Development of Robotics Applications."
      ]
    },
    {
      "cell_type": "code",
      "source": [
        "Step 1: Dataset Selection\n",
        "I choose a dataset related to robotics applications, such as a dataset predicting robot arm movement or classifying different types of robotic actions.\n",
        "For this example, I'll use a hypothetical dataset called \"Robot Arm Motion\""
      ],
      "metadata": {
        "id": "2k2Q2utlGiEo"
      },
      "execution_count": null,
      "outputs": []
    },
    {
      "cell_type": "code",
      "source": [
        "Step 2: Data Preprocessing\n",
        "This includes handling missing values, coding categorical variables, scaling numeric features, and splitting the data into training and test sets."
      ],
      "metadata": {
        "id": "SVLW8jtvGzVU"
      },
      "execution_count": null,
      "outputs": []
    },
    {
      "cell_type": "code",
      "source": [
        "Step 3: Model Implementation and Evaluation\n",
        "We implement all classification and regression models available through scikit-learn, train them on the dataset, and evaluate their performance using metrics such as accuracy, precision, recall, f1-score, RMSE, and MAE."
      ],
      "metadata": {
        "id": "_ZosqilQG5AH"
      },
      "execution_count": null,
      "outputs": []
    },
    {
      "cell_type": "code",
      "source": [
        "Step 4: Model Comparison\n",
        "We compare the results of all models to determine the best performing model based on the evaluation metrics."
      ],
      "metadata": {
        "id": "2I-nUxxZG9pf"
      },
      "execution_count": null,
      "outputs": []
    },
    {
      "cell_type": "code",
      "source": [
        "Step 5: Report Writing\n",
        "We will write a detailed report summarizing the data set, the results of each model and the best model based on the evaluation.\n",
        "Step 1: Select a dataset\n",
        "For this example, let's assume our dataset looks something like this:\n",
        "Independent variables: Sensor1, Sensor2, Sensor3, Sensor4, Sensor5\n",
        "Dependent Variable: Movement (category: ['left', 'right', 'up', 'down'])"
      ],
      "metadata": {
        "id": "Krdt4Fr1HBPn"
      },
      "execution_count": null,
      "outputs": []
    },
    {
      "cell_type": "code",
      "source": [
        "# Import necessary libraries\n",
        "import pandas as pd\n",
        "from sklearn.model_selection import train_test_split\n",
        "from sklearn.linear_model import LinearRegression, LogisticRegression\n",
        "from sklearn.tree import DecisionTreeClassifier, DecisionTreeRegressor\n",
        "from sklearn.ensemble import RandomForestClassifier, RandomForestRegressor\n",
        "from sklearn.metrics import accuracy_score, precision_score, recall_score, f1_score, mean_squared_error, mean_absolute_error\n",
        "\n",
        "# Load the dataset\n",
        "dataset = pd.read_csv('robotics_applications.csv')\n",
        "\n",
        "# Explore the dataset\n",
        "print(dataset.head())\n",
        "print(dataset.info())\n",
        "\n",
        "# Split the dataset into features and target\n",
        "X = dataset.drop('target_variable', axis=1)\n",
        "y = dataset['target_variable']\n",
        "\n",
        "# Split the data into training and testing sets\n",
        "X_train, X_test, y_train, y_test = train_test_split(X, y, test_size=0.2, random_state=42)\n",
        "\n",
        "# Apply classification models\n",
        "print(\"Classification Models:\")\n",
        "\n",
        "# Logistic Regression\n",
        "lr = LogisticRegression()\n",
        "lr.fit(X_train, y_train)\n",
        "lr_pred = lr.predict(X_test)\n",
        "print(\"Logistic Regression:\")\n",
        "print(\"Accuracy:\", accuracy_score(y_test, lr_pred))\n",
        "print(\"Precision:\", precision_score(y_test, lr_pred))\n",
        "print(\"Recall:\", recall_score(y_test, lr_pred))\n",
        "print(\"F1-score:\", f1_score(y_test, lr_pred))\n",
        "\n",
        "# Decision Tree Classifier\n",
        "dtc = DecisionTreeClassifier()\n",
        "dtc.fit(X_train, y_train)\n",
        "dtc_pred = dtc.predict(X_test)\n",
        "print(\"Decision Tree Classifier:\")\n",
        "print(\"Accuracy:\", accuracy_score(y_test, dtc_pred))\n",
        "print(\"Precision:\", precision_score(y_test, dtc_pred))\n",
        "print(\"Recall:\", recall_score(y_test, dtc_pred))\n",
        "print(\"F1-score:\", f1_score(y_test, dtc_pred))\n",
        "\n",
        "# Random Forest Classifier\n",
        "rfc = RandomForestClassifier()\n",
        "rfc.fit(X_train, y_train)\n",
        "rfc_pred = rfc.predict(X_test)\n",
        "print(\"Random Forest Classifier:\")\n",
        "print(\"Accuracy:\", accuracy_score(y_test, rfc_pred))\n",
        "print(\"Precision:\", precision_score(y_test, rfc_pred))\n",
        "print(\"Recall:\", recall_score(y_test, rfc_pred))\n",
        "print(\"F1-score:\", f1_score(y_test, rfc_pred))\n",
        "\n",
        "# Apply regression models\n",
        "print(\"\\nRegression Models:\")\n",
        "\n",
        "# Linear Regression\n",
        "lr = LinearRegression()\n",
        "lr.fit(X_train, y_train)\n",
        "lr_pred = lr.predict(X_test)\n",
        "print(\"Linear Regression:\")\n",
        "print(\"RMSE:\", mean_squared_error(y_test, lr_pred)**0.5)\n",
        "print(\"MAE:\", mean_absolute_error(y_test, lr_pred))\n",
        "\n",
        "# Decision Tree Regressor\n",
        "dtr = DecisionTreeRegressor()\n",
        "dtr.fit(X_train, y_train)\n",
        "dtr_pred = dtr.predict(X_test)\n",
        "print(\"Decision Tree Regressor:\")\n",
        "print(\"RMSE:\", mean_squared_error(y_test, dtr_pred)**0.5)\n",
        "print(\"MAE:\", mean_absolute_error(y_test, dtr_pred))\n",
        "\n",
        "# Random Forest Regressor\n",
        "rfr = RandomForestRegressor()\n",
        "rfr.fit(X_train, y_train)\n",
        "rfr_pred = rfr.predict(X_test)\n",
        "print(\"Random Forest Regressor:\")\n",
        "print(\"RMSE:\", mean_squared_error(y_test, rfr_pred)**0.5)\n",
        "print(\"MAE:\", mean_absolute_error(y_test, rfr_pred))\n",
        "\n",
        "# Determine the best model based on the evaluation scores\n",
        "print(\"\\nBest Model:\")\n",
        "# Analyze the evaluation scores and determine the best model for the dataset"
      ],
      "metadata": {
        "id": "YkiyO3xUO4n4"
      },
      "execution_count": null,
      "outputs": []
    }
  ]
}